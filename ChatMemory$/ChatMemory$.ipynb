{
 "cells": [
  {
   "cell_type": "code",
   "execution_count": 26,
   "metadata": {},
   "outputs": [],
   "source": [
    "import csv\n",
    "import random"
   ]
  },
  {
   "cell_type": "code",
   "execution_count": 27,
   "metadata": {},
   "outputs": [],
   "source": [
    "class Chatbot:\n",
    "    def __init__(self):\n",
    "        self.memoire = {}\n",
    "        self.fichier_memoire = \"memoire.csv\"\n",
    "\n",
    "        # Charger la mémoire existante depuis le fichier CSV\n",
    "        self.charger_memoire()\n",
    "\n",
    "    def repondre(self, question):\n",
    "        if question in self.memoire:\n",
    "            return self.memoire[question]\n",
    "        else:\n",
    "            reponse = self.generer_reponse(question)\n",
    "            self.memoire[question] = reponse\n",
    "            self.sauvegarder_memoire()\n",
    "            return reponse\n",
    "\n",
    "    def generer_reponse(self, question):\n",
    "        # Ici, vous pouvez utiliser des techniques de traitement du langage naturel ou d'apprentissage automatique pour générer des réponses plus intelligentes\n",
    "        reponses_possibles = [\n",
    "            \"Je ne suis pas sûr de comprendre. Pouvez-vous reformuler votre question ?\",\n",
    "            \"Intéressant, pouvez-vous m'en dire plus ?\",\n",
    "            \"Je vais y réfléchir et vous répondre dans un instant.\"\n",
    "        ]\n",
    "        return random.choice(reponses_possibles)\n",
    "\n",
    "    def charger_memoire(self):\n",
    "        try:\n",
    "            with open(self.fichier_memoire, \"r\", newline=\"\") as fichier:\n",
    "                lecteur_csv = csv.reader(fichier)\n",
    "                for ligne in lecteur_csv:\n",
    "                    try:\n",
    "                        question, reponse = ligne[0], ligne[1]\n",
    "                        self.memoire[question] = reponse\n",
    "                    except IndexError:\n",
    "                        # Ignorer les lignes incorrectes\n",
    "                        pass\n",
    "        except FileNotFoundError:\n",
    "            # Le fichier n'existe pas encore, donc on le crée\n",
    "            self.sauvegarder_memoire()\n",
    "\n",
    "    def sauvegarder_memoire(self):\n",
    "        with open(self.fichier_memoire, \"w\", newline=\"\") as fichier:\n",
    "            ecrivain_csv = csv.writer(fichier)\n",
    "            for question, reponse in self.memoire.items():\n",
    "                ecrivain_csv.writerow([question, reponse])\n",
    "                \n",
    "    def mettre_a_jour_memoire(self, question, nouvelle_reponse, nouvelle_qualite_reponse):\n",
    "        if question in self.memoire:\n",
    "            ancienne_reponse, ancienne_qualite_reponse = self.memoire[question]\n",
    "            # Mettre à jour la réponse et la qualité de réponse en ajoutant un point\n",
    "            qualite_reponse = ancienne_qualite_reponse + nouvelle_qualite_reponse\n",
    "            self.memoire[question] = (nouvelle_reponse, qualite_reponse)\n",
    "        else:\n",
    "            # Ajouter une nouvelle question et réponse dans la mémoire\n",
    "            self.memoire[question] = (nouvelle_reponse, nouvelle_qualite_reponse)\n",
    "\n",
    "# Fonction principale pour interagir avec le chatbot\n",
    "def main():\n",
    "    chatbot = Chatbot()\n",
    "\n",
    "    while True:\n",
    "        entree = input(\"Vous: \")\n",
    "\n",
    "        # Vérifier si l'utilisateur souhaite quitter\n",
    "        if entree.lower() == \"quitter\":\n",
    "            break\n",
    "\n",
    "        reponse = chatbot.repondre(entree)\n",
    "        print(\"Chatbot:\", reponse)\n",
    "\n",
    "        # Demander si la réponse est correcte\n",
    "        if entree in chatbot.memoire:\n",
    "            confirmation = input(\"La réponse était-elle correcte ? (Oui/Non) \")\n",
    "            if confirmation.lower() == \"non\":\n",
    "                nouvelle_reponse = input(\"Comment devrais-je répondre à cette question ? \")\n",
    "                chatbot.mettre_a_jour_memoire(entree, nouvelle_reponse, 0)  # Mise à jour avec une qualité de réponse de 0\n",
    "            else:\n",
    "                chatbot.mettre_a_jour_memoire(entree, reponse, 1)  # Mise à jour avec une qualité de réponse de 1\n",
    "\n",
    "        print()\n",
    "\n"
   ]
  },
  {
   "cell_type": "code",
   "execution_count": 28,
   "metadata": {},
   "outputs": [
    {
     "name": "stdout",
     "output_type": "stream",
     "text": [
      "Chatbot: Intéressant, pouvez-vous m'en dire plus ?\n"
     ]
    },
    {
     "ename": "ValueError",
     "evalue": "too many values to unpack (expected 2)",
     "output_type": "error",
     "traceback": [
      "\u001b[1;31m---------------------------------------------------------------------------\u001b[0m",
      "\u001b[1;31mValueError\u001b[0m                                Traceback (most recent call last)",
      "Cell \u001b[1;32mIn[28], line 3\u001b[0m\n\u001b[0;32m      1\u001b[0m \u001b[39m# Appel de la fonction principale\u001b[39;00m\n\u001b[0;32m      2\u001b[0m \u001b[39mif\u001b[39;00m \u001b[39m__name__\u001b[39m \u001b[39m==\u001b[39m \u001b[39m\"\u001b[39m\u001b[39m__main__\u001b[39m\u001b[39m\"\u001b[39m:\n\u001b[1;32m----> 3\u001b[0m     main()\n",
      "Cell \u001b[1;32mIn[27], line 79\u001b[0m, in \u001b[0;36mmain\u001b[1;34m()\u001b[0m\n\u001b[0;32m     77\u001b[0m         chatbot\u001b[39m.\u001b[39mmettre_a_jour_memoire(entree, nouvelle_reponse, \u001b[39m0\u001b[39m)  \u001b[39m# Mise à jour avec une qualité de réponse de 0\u001b[39;00m\n\u001b[0;32m     78\u001b[0m     \u001b[39melse\u001b[39;00m:\n\u001b[1;32m---> 79\u001b[0m         chatbot\u001b[39m.\u001b[39;49mmettre_a_jour_memoire(entree, reponse, \u001b[39m1\u001b[39;49m)  \u001b[39m# Mise à jour avec une qualité de réponse de 1\u001b[39;00m\n\u001b[0;32m     81\u001b[0m \u001b[39mprint\u001b[39m()\n",
      "Cell \u001b[1;32mIn[27], line 50\u001b[0m, in \u001b[0;36mChatbot.mettre_a_jour_memoire\u001b[1;34m(self, question, nouvelle_reponse, nouvelle_qualite_reponse)\u001b[0m\n\u001b[0;32m     48\u001b[0m \u001b[39mdef\u001b[39;00m \u001b[39mmettre_a_jour_memoire\u001b[39m(\u001b[39mself\u001b[39m, question, nouvelle_reponse, nouvelle_qualite_reponse):\n\u001b[0;32m     49\u001b[0m     \u001b[39mif\u001b[39;00m question \u001b[39min\u001b[39;00m \u001b[39mself\u001b[39m\u001b[39m.\u001b[39mmemoire:\n\u001b[1;32m---> 50\u001b[0m         ancienne_reponse, ancienne_qualite_reponse \u001b[39m=\u001b[39m \u001b[39mself\u001b[39m\u001b[39m.\u001b[39mmemoire[question]\n\u001b[0;32m     51\u001b[0m         \u001b[39m# Mettre à jour la réponse et la qualité de réponse en ajoutant un point\u001b[39;00m\n\u001b[0;32m     52\u001b[0m         qualite_reponse \u001b[39m=\u001b[39m ancienne_qualite_reponse \u001b[39m+\u001b[39m nouvelle_qualite_reponse\n",
      "\u001b[1;31mValueError\u001b[0m: too many values to unpack (expected 2)"
     ]
    }
   ],
   "source": [
    "# Appel de la fonction principale\n",
    "if __name__ == \"__main__\":\n",
    "    main()"
   ]
  }
 ],
 "metadata": {
  "kernelspec": {
   "display_name": "Python 3.10.9 64-bit",
   "language": "python",
   "name": "python3"
  },
  "language_info": {
   "codemirror_mode": {
    "name": "ipython",
    "version": 3
   },
   "file_extension": ".py",
   "mimetype": "text/x-python",
   "name": "python",
   "nbconvert_exporter": "python",
   "pygments_lexer": "ipython3",
   "version": "3.10.9"
  },
  "orig_nbformat": 4,
  "vscode": {
   "interpreter": {
    "hash": "65b85a1be1917c53d3cb97257e9304f336804ce1c3c94dcb8da6d9a48687da85"
   }
  }
 },
 "nbformat": 4,
 "nbformat_minor": 2
}
