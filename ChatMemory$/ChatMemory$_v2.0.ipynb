{
 "cells": [
  {
   "cell_type": "code",
   "execution_count": 10,
   "metadata": {},
   "outputs": [],
   "source": [
    "import csv\n",
    "import sys\n",
    "import time\n",
    "import difflib"
   ]
  },
  {
   "cell_type": "code",
   "execution_count": 11,
   "metadata": {},
   "outputs": [],
   "source": [
    "def guess_question(user_question):\n",
    "    best_ratio = 0\n",
    "    best_match = None\n",
    "    with open('memoire.csv', 'r') as f:\n",
    "        reader = csv.reader(f)\n",
    "        next(reader, None)  # saute l'en-tête\n",
    "        for row in reader:\n",
    "            ratio = difflib.SequenceMatcher(None, user_question, row[0]).ratio()\n",
    "            if ratio > best_ratio:\n",
    "                best_ratio = ratio\n",
    "                best_match = row\n",
    "    return best_match\n",
    "\n",
    "def get_answer(question):\n",
    "    with open('memoire.csv', 'r') as f:\n",
    "        reader = csv.reader(f)\n",
    "        next(reader, None)  # saute l'en-tête\n",
    "        for row in reader:\n",
    "            if row[0] == question:\n",
    "                return row[1], int(row[2])\n",
    "    return None, 0\n",
    "\n",
    "def store_answer(question, answer):\n",
    "    with open('memoire.csv', 'a', newline='') as f:\n",
    "        writer = csv.writer(f)\n",
    "        writer.writerow([question, answer, 1])\n",
    "\n",
    "def update_answer(question, answer, quality, correct):\n",
    "    lines = list()\n",
    "    with open('memoire.csv', 'r') as readFile:\n",
    "        reader = csv.reader(readFile)\n",
    "        next(reader, None)  # saute l'en-tête\n",
    "        for row in reader:\n",
    "            if row[0] == question:\n",
    "                if correct:\n",
    "                    lines.append([question, answer, quality + 1])\n",
    "                else:\n",
    "                    lines.append([question, answer, 1])  # réinitialise la qualité si la réponse est incorrecte\n",
    "            else:\n",
    "                lines.append(row)\n",
    "    with open('memoire.csv', 'w', newline='') as writeFile:\n",
    "        writer = csv.writer(writeFile)\n",
    "        writer.writerow(['question', 'reponse', 'qualite'])  # ajoute l'en-tête\n",
    "        writer.writerows(lines)\n",
    "\n",
    "def ask_question():\n",
    "    while True:  # boucle infinie\n",
    "        question = input('Posez votre question : ')\n",
    "        if question.lower() == 'exit':\n",
    "            break  # sort de la boucle et termine le programme si l'utilisateur tape 'exit'\n",
    "        answer, quality = get_answer(question)\n",
    "        if answer is None:\n",
    "            guessed_question = guess_question(question)\n",
    "            if guessed_question is not None:\n",
    "                print(f\"Vouliez-vous dire cela : {guessed_question[0]} ? (oui/non)\")\n",
    "                correct_guess = input()\n",
    "                if correct_guess.lower() == 'oui':\n",
    "                    print(guessed_question[1])\n",
    "                    update_answer(guessed_question[0], guessed_question[1], int(guessed_question[2]), True)\n",
    "                    continue\n",
    "            print(\"Je ne connais pas la réponse à cette question. Comment dois-je répondre ?\")\n",
    "            new_answer = input('Votre réponse : ')\n",
    "            store_answer(question, new_answer)\n",
    "            print(new_answer)\n",
    "        else:\n",
    "            print(answer)\n",
    "            time.sleep(2)  # pause de 2 secondes pour que l'utilisateur puisse voir la réponse\n",
    "            correct = input('Est-ce la bonne réponse ? (oui/non) ')\n",
    "            if correct.lower() == 'non':\n",
    "                print(\"Comment dois-je répondre ?\")\n",
    "                new_answer = input('Votre réponse : ')\n",
    "                update_answer(question, new_answer, quality, False)\n",
    "                print(new_answer)\n",
    "            else:\n",
    "                update_answer(question, answer, quality, True)\n",
    "                print('Ok')\n",
    "\n",
    "\n"
   ]
  },
  {
   "cell_type": "code",
   "execution_count": 12,
   "metadata": {},
   "outputs": [
    {
     "name": "stdout",
     "output_type": "stream",
     "text": [
      "Vouliez-vous dire cela : Comment vas-tu ? ? (oui/non)\n",
      "Je ne connais pas la réponse à cette question. Comment dois-je répondre ?\n",
      "[event 07/07/2023 14:00]\n",
      "Vouliez-vous dire cela : question ? (oui/non)\n",
      "Je ne connais pas la réponse à cette question. Comment dois-je répondre ?\n",
      "aujourd'hui\n",
      "Vouliez-vous dire cela : today ? (oui/non)\n",
      "Je ne connais pas la réponse à cette question. Comment dois-je répondre ?\n",
      "non\n",
      "Vouliez-vous dire cela : [event 07/07/2023 14:00] ? (oui/non)\n",
      "Je ne connais pas la réponse à cette question. Comment dois-je répondre ?\n",
      "exit\n"
     ]
    }
   ],
   "source": [
    "ask_question()"
   ]
  }
 ],
 "metadata": {
  "kernelspec": {
   "display_name": "Python 3.10.9 64-bit",
   "language": "python",
   "name": "python3"
  },
  "language_info": {
   "codemirror_mode": {
    "name": "ipython",
    "version": 3
   },
   "file_extension": ".py",
   "mimetype": "text/x-python",
   "name": "python",
   "nbconvert_exporter": "python",
   "pygments_lexer": "ipython3",
   "version": "3.10.9"
  },
  "orig_nbformat": 4,
  "vscode": {
   "interpreter": {
    "hash": "65b85a1be1917c53d3cb97257e9304f336804ce1c3c94dcb8da6d9a48687da85"
   }
  }
 },
 "nbformat": 4,
 "nbformat_minor": 2
}
