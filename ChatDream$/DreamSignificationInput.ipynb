{
 "cells": [
  {
   "cell_type": "code",
   "execution_count": 32,
   "metadata": {},
   "outputs": [],
   "source": [
    "import pandas as pd\n",
    "from sklearn.feature_extraction.text import CountVectorizer\n",
    "from sklearn.naive_bayes import MultinomialNB\n",
    "from sklearn.model_selection import GridSearchCV\n",
    "from sklearn.model_selection import train_test_split"
   ]
  },
  {
   "cell_type": "code",
   "execution_count": 33,
   "metadata": {},
   "outputs": [
    {
     "name": "stdout",
     "output_type": "stream",
     "text": [
      "0.038461538461538464\n"
     ]
    },
    {
     "name": "stderr",
     "output_type": "stream",
     "text": [
      "c:\\Users\\LUKAS.PACALON\\AppData\\Local\\anaconda3\\lib\\site-packages\\sklearn\\model_selection\\_split.py:700: UserWarning: The least populated class in y has only 1 members, which is less than n_splits=5.\n",
      "  warnings.warn(\n"
     ]
    }
   ],
   "source": [
    "# Charger les données de symbolisme à partir du fichier CSV\n",
    "symbolisme_data = pd.read_csv('fichier_symbolisme.csv')\n",
    "\n",
    "# Diviser les données en mots-clés de rêve et leurs significations\n",
    "mots_clefs = symbolisme_data['mot_clef_reve'].values\n",
    "significations = symbolisme_data['signification'].values\n",
    "\n",
    "# Créer un vecteur de caractéristiques à partir des mots-clés de rêve\n",
    "vectorizer = CountVectorizer()\n",
    "X = vectorizer.fit_transform(mots_clefs)\n",
    "\n",
    "# Diviser les données en ensembles d'entraînement et de test\n",
    "X_train, X_test, y_train, y_test = train_test_split(X, significations, test_size=0.2, random_state=42)\n",
    "\n",
    "# Définir les hyperparamètres à optimiser\n",
    "param_grid = {'alpha': [0.1, 0.5, 1.0]}\n",
    "\n",
    "# Créer un modèle de classification Naive Bayes\n",
    "model = MultinomialNB()\n",
    "model.fit(X, significations)\n",
    "\n",
    "# Effectuer une recherche en grille pour optimiser les hyperparamètres\n",
    "grid_search = GridSearchCV(model, param_grid, cv=5)\n",
    "grid_search.fit(X_train, y_train)\n",
    "\n",
    "# Obtenir les meilleurs hyperparamètres et la meilleure performance\n",
    "best_params = grid_search.best_params_\n",
    "best_score = grid_search.best_score_\n",
    "\n",
    "# Évaluer la performance du modèle optimisé sur l'ensemble de test\n",
    "accuracy = grid_search.score(X_test, y_test)\n",
    "print(accuracy)"
   ]
  },
  {
   "cell_type": "code",
   "execution_count": 34,
   "metadata": {},
   "outputs": [],
   "source": [
    "# Fonction pour analyser le contenu d'un rêve\n",
    "def analyser_contenu_reve(contenu_reve):\n",
    "    # Transformer le contenu du rêve en vecteur de caractéristiques\n",
    "    X_test = vectorizer.transform([contenu_reve])\n",
    "\n",
    "    # Prédire la signification du rêve\n",
    "    prediction = model.predict(X_test)\n",
    "\n",
    "    return prediction[0]"
   ]
  },
  {
   "cell_type": "code",
   "execution_count": 35,
   "metadata": {},
   "outputs": [
    {
     "name": "stdout",
     "output_type": "stream",
     "text": [
      "Exactitude moyenne du modèle : 9.74%\n"
     ]
    },
    {
     "name": "stderr",
     "output_type": "stream",
     "text": [
      "c:\\Users\\LUKAS.PACALON\\AppData\\Local\\anaconda3\\lib\\site-packages\\sklearn\\model_selection\\_split.py:700: UserWarning: The least populated class in y has only 1 members, which is less than n_splits=5.\n",
      "  warnings.warn(\n"
     ]
    }
   ],
   "source": [
    "from sklearn.model_selection import cross_val_score\n",
    "\n",
    "# Évaluer l'exactitude du modèle en utilisant la validation croisée\n",
    "scores = cross_val_score(model, X, significations, cv=5)\n",
    "accuracy = scores.mean()\n",
    "\n",
    "print(\"Exactitude moyenne du modèle : {:.2f}%\".format(accuracy * 100))\n"
   ]
  },
  {
   "cell_type": "code",
   "execution_count": 41,
   "metadata": {},
   "outputs": [
    {
     "name": "stdout",
     "output_type": "stream",
     "text": [
      "La signification du rêve est : liberté\n"
     ]
    }
   ],
   "source": [
    "# Exemple d'utilisation\n",
    "contenu_reve = \"\"\"\n",
    "\n",
    "\"\"\"\n",
    "signification = analyser_contenu_reve(contenu_reve)\n",
    "print(\"La signification du rêve est :\", signification)\n"
   ]
  }
 ],
 "metadata": {
  "kernelspec": {
   "display_name": "Python 3.10.9 64-bit",
   "language": "python",
   "name": "python3"
  },
  "language_info": {
   "codemirror_mode": {
    "name": "ipython",
    "version": 3
   },
   "file_extension": ".py",
   "mimetype": "text/x-python",
   "name": "python",
   "nbconvert_exporter": "python",
   "pygments_lexer": "ipython3",
   "version": "3.10.9"
  },
  "orig_nbformat": 4,
  "vscode": {
   "interpreter": {
    "hash": "65b85a1be1917c53d3cb97257e9304f336804ce1c3c94dcb8da6d9a48687da85"
   }
  }
 },
 "nbformat": 4,
 "nbformat_minor": 2
}
